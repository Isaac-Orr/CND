{
  "nbformat": 4,
  "nbformat_minor": 0,
  "metadata": {
    "colab": {
      "provenance": [],
      "authorship_tag": "ABX9TyMuCaORTG/2HwZj956d8lyf",
      "include_colab_link": true
    },
    "kernelspec": {
      "name": "python3",
      "display_name": "Python 3"
    },
    "language_info": {
      "name": "python"
    }
  },
  "cells": [
    {
      "cell_type": "markdown",
      "metadata": {
        "id": "view-in-github",
        "colab_type": "text"
      },
      "source": [
        "<a href=\"https://colab.research.google.com/github/MJMortensonWarwick/CND/blob/main/0_1_linux_fundamentals.ipynb\" target=\"_parent\"><img src=\"https://colab.research.google.com/assets/colab-badge.svg\" alt=\"Open In Colab\"/></a>"
      ]
    },
    {
      "cell_type": "markdown",
      "source": [
        "# Linux Fundamentals\n",
        "This brief tutorial will give an overview of Linux and common shell commands. It assumes little or no experience - if you are experienced in Linux already feel free to skip this.\n",
        "\n",
        "It's worth noting that Google Colab is not a natural Linux environment to work in _per se_ (its a Python environment) but we'll use it for the later tutorials and it doesn't require any installs or guest operating system shenanigans. What it gives us is a Linux virtual machine which we can send standard Linux commands to by prefacing them with an exclamation mark (!). For example:"
      ],
      "metadata": {
        "id": "mu3rlBogzIh6"
      }
    },
    {
      "cell_type": "code",
      "execution_count": null,
      "metadata": {
        "colab": {
          "base_uri": "https://localhost:8080/",
          "height": 131
        },
        "id": "9v_8DReOzHml",
        "outputId": "64ad4a0f-7b2c-41ef-ebcf-0642c68f8752"
      },
      "outputs": [
        {
          "output_type": "error",
          "ename": "SyntaxError",
          "evalue": "ignored",
          "traceback": [
            "\u001b[0;36m  File \u001b[0;32m\"<ipython-input-1-1ef7204085e2>\"\u001b[0;36m, line \u001b[0;32m2\u001b[0m\n\u001b[0;31m    echo \"Hello, World!\"\u001b[0m\n\u001b[0m         ^\u001b[0m\n\u001b[0;31mSyntaxError\u001b[0m\u001b[0;31m:\u001b[0m invalid syntax\n"
          ]
        }
      ],
      "source": [
        "# Normal Linux command - won't work\n",
        "echo \"Hello, World!\""
      ]
    },
    {
      "cell_type": "code",
      "source": [
        "# With an exclamation mark\n",
        "!echo \"Hello, World!\""
      ],
      "metadata": {
        "colab": {
          "base_uri": "https://localhost:8080/"
        },
        "id": "7ioRPP7-0t89",
        "outputId": "4e88667f-aed8-49fa-bdd7-89e6bb666cb9"
      },
      "execution_count": null,
      "outputs": [
        {
          "output_type": "stream",
          "name": "stdout",
          "text": [
            "Hello, World!\n"
          ]
        }
      ]
    },
    {
      "cell_type": "markdown",
      "source": [
        "Let's start with a simple command to see what Linux disribution we are running. Linux distributions are different versions of the operating system (OS). As an open source OS, different developers can (and have) therefore build different versions of this base OS.  "
      ],
      "metadata": {
        "id": "ckgZnJZk1GbP"
      }
    },
    {
      "cell_type": "code",
      "source": [
        "!cat /etc/*-release"
      ],
      "metadata": {
        "colab": {
          "base_uri": "https://localhost:8080/"
        },
        "id": "OC8p1_WY1BPp",
        "outputId": "0dda1cf2-c96f-4e3d-bf74-61e1a15b312f"
      },
      "execution_count": null,
      "outputs": [
        {
          "output_type": "stream",
          "name": "stdout",
          "text": [
            "DISTRIB_ID=Ubuntu\n",
            "DISTRIB_RELEASE=18.04\n",
            "DISTRIB_CODENAME=bionic\n",
            "DISTRIB_DESCRIPTION=\"Ubuntu 18.04.6 LTS\"\n",
            "NAME=\"Ubuntu\"\n",
            "VERSION=\"18.04.6 LTS (Bionic Beaver)\"\n",
            "ID=ubuntu\n",
            "ID_LIKE=debian\n",
            "PRETTY_NAME=\"Ubuntu 18.04.6 LTS\"\n",
            "VERSION_ID=\"18.04\"\n",
            "HOME_URL=\"https://www.ubuntu.com/\"\n",
            "SUPPORT_URL=\"https://help.ubuntu.com/\"\n",
            "BUG_REPORT_URL=\"https://bugs.launchpad.net/ubuntu/\"\n",
            "PRIVACY_POLICY_URL=\"https://www.ubuntu.com/legal/terms-and-policies/privacy-policy\"\n",
            "VERSION_CODENAME=bionic\n",
            "UBUNTU_CODENAME=bionic\n"
          ]
        }
      ]
    },
    {
      "cell_type": "markdown",
      "source": [
        "The command _cat_, short for concatenate, in this case tells the OS to find the content in a given folder and display on the screen. The remainder of the command gives the folder location of the file where the OS info is stored. This is the _etc_ folder and in a file called release.\n",
        "\n",
        "As the output shows we are using the popular distribution Ubuntu. Other notable distributions include [Debian](https://www.debian.org/) and Red Hat Enterprise Linux ([RHEL](https://www.redhat.com/en/technologies/linux-platforms/enterprise-linux)). The latter is a paid for solution used by many larger businesses (although you can use a very similar open source version [CentOS](https://www.centos.org/)).\n",
        "\n",
        "Obviously different distributions are popular with different communities and there is no \"best\" out there. It is worth noting that syntax will change between them a little so the commands that we use in this tutorial (in Ubuntu) won't all work if you're running RHEL/CentOS."
      ],
      "metadata": {
        "id": "N-0ucGVw3N6l"
      }
    },
    {
      "cell_type": "markdown",
      "source": [
        "## Directories and Folders\n",
        "A common task will be file management and navigation around folders. We can start by establishing the directory we are currently in by using _pwd_ (print working directory):"
      ],
      "metadata": {
        "id": "ispNI5Vu49Ic"
      }
    },
    {
      "cell_type": "code",
      "source": [
        "!pwd"
      ],
      "metadata": {
        "colab": {
          "base_uri": "https://localhost:8080/"
        },
        "id": "nLqj2v7R5jAm",
        "outputId": "13664b74-09a9-452f-b9c1-df6b2558dfe5"
      },
      "execution_count": null,
      "outputs": [
        {
          "output_type": "stream",
          "name": "stdout",
          "text": [
            "/content\n"
          ]
        }
      ]
    },
    {
      "cell_type": "markdown",
      "source": [
        "We are currently working from a folder called \"/content\". But what if we wanted to work somewhere else? We can use _cd_ to \"change directory\" ... in this case to the base of the file system - the root directory (denoted by slash to say there is nothing before it ... its the top of the directory tree). This is the equivalent of \"C:/\" or similar in Windows. Once we get there we may want to see what folders there are. The _ls_ (short for 'list') command will list everything in the directory we navigated to. _N.B in the Notebook we have to use the percent symbol (%) instead of the exclamation marks (!) for the cd command. Again, in normal Linux you wouldn't use either you would just type \"cd /\"._"
      ],
      "metadata": {
        "id": "_mha7e0x5nWC"
      }
    },
    {
      "cell_type": "code",
      "source": [
        "%cd /\n",
        "!ls"
      ],
      "metadata": {
        "colab": {
          "base_uri": "https://localhost:8080/"
        },
        "id": "e1zvbRsS6DUI",
        "outputId": "f2ce4691-d783-4e2e-c8c8-3fd0e1a42ede"
      },
      "execution_count": null,
      "outputs": [
        {
          "output_type": "stream",
          "name": "stdout",
          "text": [
            "/\n",
            "bin\t dev   lib32  NGC-DL-CONTAINER-LICENSE\troot  sys    var\n",
            "boot\t etc   lib64  opt\t\t\trun   tmp\n",
            "content  home  media  proc\t\t\tsbin  tools\n",
            "datalab  lib   mnt    python-apt\t\tsrv   usr\n"
          ]
        }
      ]
    },
    {
      "cell_type": "markdown",
      "source": [
        "Here we can see all the main folders in the root directory most of which are fairly typical on a Linux instance/install. Some noteable ones are:\n",
        "- _bin_ - where most installed libraries and apps would be stored. E.g. if you installed Firefox on the machine/instance this is where the binaries would be stored.\n",
        "- _etc_ - where configuration files are stored. We saw this earlier when we looked at the release details of our instance (the OS and its version).\n",
        "- _home_ - this is typically where different users would store their files. E.g. if the users Mark and Freeha were sharing access to the machine they would be setup with a folder each here (\"/home/mark\" and \"/home/freeha\").\n",
        "- _root_ - this is the home directory for the root user (system administrator or \"sysadmin\").\n",
        "- _srv_ - most commonly you would see this if the sever was running a website using something like Apache HTTP Server. In these cases the web files (the HTML pages, etc.) would be stored here.\n",
        "\n",
        "All the others obviously have uses but these are arguably the most likely to come up for a developer working with a server.\n",
        "\n",
        "Of course, we can build our own folders:"
      ],
      "metadata": {
        "id": "9lEx7zML3smF"
      }
    },
    {
      "cell_type": "code",
      "source": [
        "!mkdir \"/test-folder\"\n",
        "!ls"
      ],
      "metadata": {
        "colab": {
          "base_uri": "https://localhost:8080/"
        },
        "id": "ASpZVhv76GAg",
        "outputId": "3789e531-4e17-4d14-8033-ddad91e8cc63"
      },
      "execution_count": null,
      "outputs": [
        {
          "output_type": "stream",
          "name": "stdout",
          "text": [
            "bin\t dev   lib32  NGC-DL-CONTAINER-LICENSE\troot  sys\t   usr\n",
            "boot\t etc   lib64  opt\t\t\trun   test-folder  var\n",
            "content  home  media  proc\t\t\tsbin  tmp\n",
            "datalab  lib   mnt    python-apt\t\tsrv   tools\n"
          ]
        }
      ]
    },
    {
      "cell_type": "markdown",
      "source": [
        "We can see that our folder has been created. The command we used was _mkdir_ (short for \"make directory\" - and is fairly self explanatory). We could navigate there using \"cd /test-folder\" as before but as an exmpty folder there's not much point. Let's just delete it and move on with our lives:"
      ],
      "metadata": {
        "id": "UUkUNbQf6iKC"
      }
    },
    {
      "cell_type": "code",
      "source": [
        "!rm -R /test-folder/\n",
        "!ls"
      ],
      "metadata": {
        "colab": {
          "base_uri": "https://localhost:8080/"
        },
        "id": "MrzYQovA6GMQ",
        "outputId": "e781a500-04ee-43e4-eaba-1a8f8b84d5af"
      },
      "execution_count": null,
      "outputs": [
        {
          "output_type": "stream",
          "name": "stdout",
          "text": [
            "bin\t dev   lib32  NGC-DL-CONTAINER-LICENSE\troot  sys    var\n",
            "boot\t etc   lib64  opt\t\t\trun   tmp\n",
            "content  home  media  proc\t\t\tsbin  tools\n",
            "datalab  lib   mnt    python-apt\t\tsrv   usr\n"
          ]
        }
      ]
    },
    {
      "cell_type": "markdown",
      "source": [
        "The _rm_ command, as you may guess, is short for \"remove\". We also use _-R_ (short for \"recursive\") to remove everything in the folder and the folder itself. I.e. we're not removing one thing we're removing the whole thing.\n",
        "\n",
        "Another common task will be creating, moving and deleting files. Let's create a basic file first of all:"
      ],
      "metadata": {
        "id": "jGv9qoOv7PgA"
      }
    },
    {
      "cell_type": "code",
      "source": [
        "!mkdir /new-file-folder\n",
        "!mkdir /moved-file-folder\n",
        "\n",
        "%cd /new-file-folder\n",
        "\n",
        "!touch samplefile.txt\n",
        "!ls"
      ],
      "metadata": {
        "colab": {
          "base_uri": "https://localhost:8080/"
        },
        "id": "VoukBIbY8zF4",
        "outputId": "6433f0e8-ea83-4aef-bd91-3373cc3c1432"
      },
      "execution_count": null,
      "outputs": [
        {
          "output_type": "stream",
          "name": "stdout",
          "text": [
            "/new-file-folder\n",
            "samplefile.txt\n"
          ]
        }
      ]
    },
    {
      "cell_type": "markdown",
      "source": [
        "So we started with things you have already seen. We create two folders and navigated (using _cd_) to the first folder. Once we are in the new folder we then used _touch_ to create a new file called \"samplefile.txt\".\n",
        "\n",
        "Next, you may have guessed, we are going to copy this file and put it in the other folder:"
      ],
      "metadata": {
        "id": "7euoE2YO8CRI"
      }
    },
    {
      "cell_type": "code",
      "source": [
        "# Moving a file by copying \n",
        "!cp samplefile.txt /moved-file-folder/samplefile.txt\n",
        "\n",
        "# Moving the file from the original folder to the other folder (cut and paste)\n",
        "#!mv samplefile.txt /moved-file-folder/samplefile.txt\n",
        "\n",
        "# Navigate to the folder and check it worked\n",
        "%cd /moved-file-folder\n",
        "!ls"
      ],
      "metadata": {
        "colab": {
          "base_uri": "https://localhost:8080/"
        },
        "id": "z_wJLZei91gn",
        "outputId": "64c0cb64-6601-4d7e-8694-a5ccaf636ea2"
      },
      "execution_count": null,
      "outputs": [
        {
          "output_type": "stream",
          "name": "stdout",
          "text": [
            "/moved-file-folder\n",
            "samplefile.txt\n"
          ]
        }
      ]
    },
    {
      "cell_type": "markdown",
      "source": [
        "The code here shows two ways of doing this. The one we acutally use is via copying (the file is duplicated) using _cp_ (for \"copy\"). However, there is also an example (commented out so it doesn't run) where the file is moved from one location to the other (cut and paste in Windows terminology) using _mv_ (for \"move\").\n",
        "\n",
        "With this complete we have performed our main tasks. Let's just clean up the mess we made:"
      ],
      "metadata": {
        "id": "K0QKCtYo_kv6"
      }
    },
    {
      "cell_type": "code",
      "source": [
        "%cd /\n",
        "!rm -R /new-file-folder /moved-file-folder\n",
        "!ls"
      ],
      "metadata": {
        "colab": {
          "base_uri": "https://localhost:8080/"
        },
        "id": "9P8Rv-HOANVn",
        "outputId": "a4cf91a1-9890-4e22-9b30-698d531b9ebf"
      },
      "execution_count": null,
      "outputs": [
        {
          "output_type": "stream",
          "name": "stdout",
          "text": [
            "/\n",
            "bin\t dev   lib32  NGC-DL-CONTAINER-LICENSE\troot  sys    var\n",
            "boot\t etc   lib64  opt\t\t\trun   tmp\n",
            "content  home  media  proc\t\t\tsbin  tools\n",
            "datalab  lib   mnt    python-apt\t\tsrv   usr\n"
          ]
        }
      ]
    },
    {
      "cell_type": "markdown",
      "source": [
        "## System Variables\n",
        "The last topic we'll look at as it comes up later in the module are variables - those in the environment, the shell and also those we may create ourselves. Don't worry if these terms don't all make sense right now, we'll go through each.\n",
        "\n",
        "Environment variables are named variables used by the system and applications running on it. They are basically the same thing as variables in Python or most programming languages, but ones used in your Linux system. As an example, let's look at what is stored as our home directory:"
      ],
      "metadata": {
        "id": "8mwoQe79A4xZ"
      }
    },
    {
      "cell_type": "code",
      "source": [
        "!echo $HOME"
      ],
      "metadata": {
        "colab": {
          "base_uri": "https://localhost:8080/"
        },
        "id": "hFVDg8jHCr37",
        "outputId": "ea910ddc-c7ff-4d2e-aac7-df1bd98285c0"
      },
      "execution_count": null,
      "outputs": [
        {
          "output_type": "stream",
          "name": "stdout",
          "text": [
            "/root\n"
          ]
        }
      ]
    },
    {
      "cell_type": "markdown",
      "source": [
        "From earlier you should recall that the output (\"/root\") tells us we are using the system adminstrator user profile (read the section on common folders if you don't!). To get there we typed _echo_ (which we saw earlier but I didn't explain) to basically printout the result and then identifed the variable in question by __\\$HOME__ ... the name of the home variable stored in the system. Note we use the $ symbol to specify this is a variable name and the name was in upper-case ... all enivornment variables (by convention) are upper-case and all shell variables lower.\n",
        "\n",
        "Let's take a look at all our stored environment variables (note this will continuously run when called - stop the code by using Runtime -> Interrupt execution from the top menu):"
      ],
      "metadata": {
        "id": "FipygcbSDCE2"
      }
    },
    {
      "cell_type": "code",
      "source": [
        "!printenv | less"
      ],
      "metadata": {
        "colab": {
          "base_uri": "https://localhost:8080/",
          "height": 679
        },
        "id": "0U4URzYQD6Jn",
        "outputId": "8183a5b6-d1a6-49b1-af75-2f279351ec82"
      },
      "execution_count": null,
      "outputs": [
        {
          "output_type": "stream",
          "name": "stdout",
          "text": [
            "\u001b7\u001b[?47h\u001b[?1h\u001b=\rNV_LIBCUBLAS_DEV_VERSION=11.4.1.1043-1\r\n",
            "NV_CUDA_COMPAT_PACKAGE=cuda-compat-11-2\r\n",
            "NV_CUDNN_PACKAGE_DEV=libcudnn8-dev=8.1.1.33-1+cuda11.2\r\n",
            "PYDEVD_USE_FRAME_EVAL=NO\r\n",
            "LD_LIBRARY_PATH=/usr/local/nvidia/lib:/usr/local/nvidia/lib64\r\n",
            "NV_LIBNCCL_DEV_PACKAGE=libnccl-dev=2.8.4-1+cuda11.2\r\n",
            "TCLLIBPATH=/usr/share/tcltk/tcllib1.19\r\n",
            "CLOUDSDK_PYTHON=python3\r\n",
            "LANG=en_US.UTF-8\r\n",
            "NV_LIBNPP_DEV_PACKAGE=libnpp-dev-11-2=11.3.2.152-1\r\n",
            "ENABLE_DIRECTORYPREFETCHER=1\r\n",
            "HOSTNAME=51a154d3c5d0\r\n",
            "OLDPWD=/\r\n",
            "CLOUDSDK_CONFIG=/content/.config\r\n",
            "USE_AUTH_EPHEM=1\r\n",
            "KMP_EXTRA_ARGS=--listen_host=172.28.0.12 --target_host=172.28.0.12 --tunnel_back \bground_save_url=https://colab.research.google.com/tun/m/cc48301118ce562b961b3c22 \bd803539adc1e0c19/m-s-3m0uayb26u7jj --tunnel_background_save_delay=10s --tunnel_p \beriodic_background_save_frequency=30m0s --enable_output_coalescing=true --output \b_coalescing_required=true\r\n",
            "NV_LIBNPP_VERSION=11.3.2.152-1\r\n",
            "NV_NVPROF_DEV_PACKAGE=cuda-nvprof-11-2=11.2.152-1\r\n",
            "NVIDIA_VISIBLE_DEVICES=all\n",
            "\u001b[K:\u001b[K"
          ]
        },
        {
          "output_type": "error",
          "ename": "KeyboardInterrupt",
          "evalue": "ignored",
          "traceback": [
            "\u001b[0;31m---------------------------------------------------------------------------\u001b[0m",
            "\u001b[0;31mKeyboardInterrupt\u001b[0m                         Traceback (most recent call last)",
            "\u001b[0;32m<ipython-input-13-088eb4d2ea35>\u001b[0m in \u001b[0;36m<module>\u001b[0;34m\u001b[0m\n\u001b[0;32m----> 1\u001b[0;31m \u001b[0mget_ipython\u001b[0m\u001b[0;34m(\u001b[0m\u001b[0;34m)\u001b[0m\u001b[0;34m.\u001b[0m\u001b[0msystem\u001b[0m\u001b[0;34m(\u001b[0m\u001b[0;34m'printenv | less'\u001b[0m\u001b[0;34m)\u001b[0m\u001b[0;34m\u001b[0m\u001b[0;34m\u001b[0m\u001b[0m\n\u001b[0m",
            "\u001b[0;32m/usr/local/lib/python3.8/dist-packages/google/colab/_shell.py\u001b[0m in \u001b[0;36msystem\u001b[0;34m(self, *args, **kwargs)\u001b[0m\n\u001b[1;32m     93\u001b[0m       \u001b[0mkwargs\u001b[0m\u001b[0;34m.\u001b[0m\u001b[0mupdate\u001b[0m\u001b[0;34m(\u001b[0m\u001b[0;34m{\u001b[0m\u001b[0;34m'also_return_output'\u001b[0m\u001b[0;34m:\u001b[0m \u001b[0;32mTrue\u001b[0m\u001b[0;34m}\u001b[0m\u001b[0;34m)\u001b[0m\u001b[0;34m\u001b[0m\u001b[0;34m\u001b[0m\u001b[0m\n\u001b[1;32m     94\u001b[0m \u001b[0;34m\u001b[0m\u001b[0m\n\u001b[0;32m---> 95\u001b[0;31m     \u001b[0moutput\u001b[0m \u001b[0;34m=\u001b[0m \u001b[0m_system_commands\u001b[0m\u001b[0;34m.\u001b[0m\u001b[0m_system_compat\u001b[0m\u001b[0;34m(\u001b[0m\u001b[0mself\u001b[0m\u001b[0;34m,\u001b[0m \u001b[0;34m*\u001b[0m\u001b[0margs\u001b[0m\u001b[0;34m,\u001b[0m \u001b[0;34m**\u001b[0m\u001b[0mkwargs\u001b[0m\u001b[0;34m)\u001b[0m  \u001b[0;31m# pylint:disable=protected-access\u001b[0m\u001b[0;34m\u001b[0m\u001b[0;34m\u001b[0m\u001b[0m\n\u001b[0m\u001b[1;32m     96\u001b[0m \u001b[0;34m\u001b[0m\u001b[0m\n\u001b[1;32m     97\u001b[0m     \u001b[0;32mif\u001b[0m \u001b[0mpip_warn\u001b[0m\u001b[0;34m:\u001b[0m\u001b[0;34m\u001b[0m\u001b[0;34m\u001b[0m\u001b[0m\n",
            "\u001b[0;32m/usr/local/lib/python3.8/dist-packages/google/colab/_system_commands.py\u001b[0m in \u001b[0;36m_system_compat\u001b[0;34m(shell, cmd, also_return_output)\u001b[0m\n\u001b[1;32m    434\u001b[0m   \u001b[0;31m# is expected to call this function, thus adding one level of nesting to the\u001b[0m\u001b[0;34m\u001b[0m\u001b[0;34m\u001b[0m\u001b[0;34m\u001b[0m\u001b[0m\n\u001b[1;32m    435\u001b[0m   \u001b[0;31m# stack.\u001b[0m\u001b[0;34m\u001b[0m\u001b[0;34m\u001b[0m\u001b[0;34m\u001b[0m\u001b[0m\n\u001b[0;32m--> 436\u001b[0;31m   result = _run_command(\n\u001b[0m\u001b[1;32m    437\u001b[0m       shell.var_expand(cmd, depth=2), clear_streamed_output=False)\n\u001b[1;32m    438\u001b[0m   \u001b[0mshell\u001b[0m\u001b[0;34m.\u001b[0m\u001b[0muser_ns\u001b[0m\u001b[0;34m[\u001b[0m\u001b[0;34m'_exit_code'\u001b[0m\u001b[0;34m]\u001b[0m \u001b[0;34m=\u001b[0m \u001b[0mresult\u001b[0m\u001b[0;34m.\u001b[0m\u001b[0mreturncode\u001b[0m\u001b[0;34m\u001b[0m\u001b[0;34m\u001b[0m\u001b[0m\n",
            "\u001b[0;32m/usr/local/lib/python3.8/dist-packages/google/colab/_system_commands.py\u001b[0m in \u001b[0;36m_run_command\u001b[0;34m(cmd, clear_streamed_output)\u001b[0m\n\u001b[1;32m    193\u001b[0m       \u001b[0mos\u001b[0m\u001b[0;34m.\u001b[0m\u001b[0mclose\u001b[0m\u001b[0;34m(\u001b[0m\u001b[0mchild_pty\u001b[0m\u001b[0;34m)\u001b[0m\u001b[0;34m\u001b[0m\u001b[0;34m\u001b[0m\u001b[0m\n\u001b[1;32m    194\u001b[0m \u001b[0;34m\u001b[0m\u001b[0m\n\u001b[0;32m--> 195\u001b[0;31m       \u001b[0;32mreturn\u001b[0m \u001b[0m_monitor_process\u001b[0m\u001b[0;34m(\u001b[0m\u001b[0mparent_pty\u001b[0m\u001b[0;34m,\u001b[0m \u001b[0mepoll\u001b[0m\u001b[0;34m,\u001b[0m \u001b[0mp\u001b[0m\u001b[0;34m,\u001b[0m \u001b[0mcmd\u001b[0m\u001b[0;34m,\u001b[0m \u001b[0mupdate_stdin_widget\u001b[0m\u001b[0;34m)\u001b[0m\u001b[0;34m\u001b[0m\u001b[0;34m\u001b[0m\u001b[0m\n\u001b[0m\u001b[1;32m    196\u001b[0m   \u001b[0;32mfinally\u001b[0m\u001b[0;34m:\u001b[0m\u001b[0;34m\u001b[0m\u001b[0;34m\u001b[0m\u001b[0m\n\u001b[1;32m    197\u001b[0m     \u001b[0mepoll\u001b[0m\u001b[0;34m.\u001b[0m\u001b[0mclose\u001b[0m\u001b[0;34m(\u001b[0m\u001b[0;34m)\u001b[0m\u001b[0;34m\u001b[0m\u001b[0;34m\u001b[0m\u001b[0m\n",
            "\u001b[0;32m/usr/local/lib/python3.8/dist-packages/google/colab/_system_commands.py\u001b[0m in \u001b[0;36m_monitor_process\u001b[0;34m(parent_pty, epoll, p, cmd, update_stdin_widget)\u001b[0m\n\u001b[1;32m    223\u001b[0m   \u001b[0;32mwhile\u001b[0m \u001b[0;32mTrue\u001b[0m\u001b[0;34m:\u001b[0m\u001b[0;34m\u001b[0m\u001b[0;34m\u001b[0m\u001b[0m\n\u001b[1;32m    224\u001b[0m     \u001b[0;32mtry\u001b[0m\u001b[0;34m:\u001b[0m\u001b[0;34m\u001b[0m\u001b[0;34m\u001b[0m\u001b[0m\n\u001b[0;32m--> 225\u001b[0;31m       \u001b[0mresult\u001b[0m \u001b[0;34m=\u001b[0m \u001b[0m_poll_process\u001b[0m\u001b[0;34m(\u001b[0m\u001b[0mparent_pty\u001b[0m\u001b[0;34m,\u001b[0m \u001b[0mepoll\u001b[0m\u001b[0;34m,\u001b[0m \u001b[0mp\u001b[0m\u001b[0;34m,\u001b[0m \u001b[0mcmd\u001b[0m\u001b[0;34m,\u001b[0m \u001b[0mdecoder\u001b[0m\u001b[0;34m,\u001b[0m \u001b[0mstate\u001b[0m\u001b[0;34m)\u001b[0m\u001b[0;34m\u001b[0m\u001b[0;34m\u001b[0m\u001b[0m\n\u001b[0m\u001b[1;32m    226\u001b[0m       \u001b[0;32mif\u001b[0m \u001b[0mresult\u001b[0m \u001b[0;32mis\u001b[0m \u001b[0;32mnot\u001b[0m \u001b[0;32mNone\u001b[0m\u001b[0;34m:\u001b[0m\u001b[0;34m\u001b[0m\u001b[0;34m\u001b[0m\u001b[0m\n\u001b[1;32m    227\u001b[0m         \u001b[0;32mreturn\u001b[0m \u001b[0mresult\u001b[0m\u001b[0;34m\u001b[0m\u001b[0;34m\u001b[0m\u001b[0m\n",
            "\u001b[0;32m/usr/local/lib/python3.8/dist-packages/google/colab/_system_commands.py\u001b[0m in \u001b[0;36m_poll_process\u001b[0;34m(parent_pty, epoll, p, cmd, decoder, state)\u001b[0m\n\u001b[1;32m    270\u001b[0m   \u001b[0moutput_available\u001b[0m \u001b[0;34m=\u001b[0m \u001b[0;32mFalse\u001b[0m\u001b[0;34m\u001b[0m\u001b[0;34m\u001b[0m\u001b[0m\n\u001b[1;32m    271\u001b[0m \u001b[0;34m\u001b[0m\u001b[0m\n\u001b[0;32m--> 272\u001b[0;31m   \u001b[0mevents\u001b[0m \u001b[0;34m=\u001b[0m \u001b[0mepoll\u001b[0m\u001b[0;34m.\u001b[0m\u001b[0mpoll\u001b[0m\u001b[0;34m(\u001b[0m\u001b[0;34m)\u001b[0m\u001b[0;34m\u001b[0m\u001b[0;34m\u001b[0m\u001b[0m\n\u001b[0m\u001b[1;32m    273\u001b[0m   \u001b[0minput_events\u001b[0m \u001b[0;34m=\u001b[0m \u001b[0;34m[\u001b[0m\u001b[0;34m]\u001b[0m\u001b[0;34m\u001b[0m\u001b[0;34m\u001b[0m\u001b[0m\n\u001b[1;32m    274\u001b[0m   \u001b[0;32mfor\u001b[0m \u001b[0m_\u001b[0m\u001b[0;34m,\u001b[0m \u001b[0mevent\u001b[0m \u001b[0;32min\u001b[0m \u001b[0mevents\u001b[0m\u001b[0;34m:\u001b[0m\u001b[0;34m\u001b[0m\u001b[0;34m\u001b[0m\u001b[0m\n",
            "\u001b[0;31mKeyboardInterrupt\u001b[0m: "
          ]
        }
      ]
    },
    {
      "cell_type": "markdown",
      "source": [
        "Many of these will not be that relevant (or make sense) to us as developers. A couple are fairly self explanatory - e.g. __\\$LANG__ tell us the the base language is US English. Its also useful to note we have several shortcuts to our prefered hardware/software for running programs. E.g. we have the variable __\\$CLOUDSDK\\_PYTHON__ pointed at Python 3. If we have multiple versions of Python on the machine/instance - which is pretty common - we can use this to point our Python programs at the right version."
      ],
      "metadata": {
        "id": "fpv9BzxTEKg2"
      }
    },
    {
      "cell_type": "markdown",
      "source": [
        "As mentioned we also have shell variables. The shell, less obvious in this case as we are using a Notebook to access Linux, is the connection we have to the machine and the actions we have taken. The most obvious use case here is looking at our history:"
      ],
      "metadata": {
        "id": "ytiAXTwBFaGg"
      }
    },
    {
      "cell_type": "code",
      "source": [
        "!echo $history"
      ],
      "metadata": {
        "colab": {
          "base_uri": "https://localhost:8080/"
        },
        "id": "wpGiuU2TFKsu",
        "outputId": "569b4a47-cf46-4b5c-9d1c-91111430b8f3"
      },
      "execution_count": null,
      "outputs": [
        {
          "output_type": "stream",
          "name": "stdout",
          "text": [
            "\n"
          ]
        }
      ]
    },
    {
      "cell_type": "markdown",
      "source": [
        "In this case we see no output. This is simply as we are using Notebooks rather than a shell (known as Command Prompt in Windows and Terminal in Mac). No shell so no history. Do note, as discussed, as this is a shell varable we use lower-case not upper. Finally on this we should note an upper-case environment variable and lower-case shell variable are not the same item. An environment variable __\\$PATH__ and a shell variable __\\$path__ denote two different things. Changing one would not change the other"
      ],
      "metadata": {
        "id": "96fjwrjCGDGb"
      }
    },
    {
      "cell_type": "markdown",
      "source": [
        "Lastly we will look at creating or changng a variable. Both would be done with the command _export_. Let's try setting an environment variable:"
      ],
      "metadata": {
        "id": "Vcken3BTHHa3"
      }
    },
    {
      "cell_type": "code",
      "source": [
        "# Works in normal Linux but won't work here\n",
        "!export DUMMY_VARIABLE=10\n",
        "\n",
        "# Works in Colab\n",
        "%env DUMMY_VARIABLE=10\n",
        "\n",
        "!echo $DUMMY_VARIABLE"
      ],
      "metadata": {
        "colab": {
          "base_uri": "https://localhost:8080/"
        },
        "id": "no2pJYKaHsPJ",
        "outputId": "14d80a04-5c49-4b36-be71-e74cbb8b11e5"
      },
      "execution_count": null,
      "outputs": [
        {
          "output_type": "stream",
          "name": "stdout",
          "text": [
            "env: DUMMY_VARIABLE=10\n",
            "10\n"
          ]
        }
      ]
    },
    {
      "cell_type": "code",
      "source": [
        "# Works in normal Linux but won't work here\n",
        "!export DUMMY_VARIABLE=100\n",
        "\n",
        "# Works in Colab\n",
        "%env DUMMY_VARIABLE=100\n",
        "\n",
        "!echo $DUMMY_VARIABLE"
      ],
      "metadata": {
        "colab": {
          "base_uri": "https://localhost:8080/"
        },
        "id": "TEpdWAUkKHC0",
        "outputId": "9721e0d0-cf9f-4899-a82a-b2f934ad80a2"
      },
      "execution_count": null,
      "outputs": [
        {
          "output_type": "stream",
          "name": "stdout",
          "text": [
            "env: DUMMY_VARIABLE=100\n",
            "100\n"
          ]
        }
      ]
    },
    {
      "cell_type": "markdown",
      "source": [
        "OK you'll note I needed to use a hack to make it work in Colab (something about ephermeral instances and yada-yada-yada). But ignoring this we can see the environmental variable has been created. Note in the syntax when we create a variables we don't use the $ symbol, just when we are calling it. If we are creating shell variables rather than environment ones then they will only last for the duration of the shell session. If we log out and in again they will disappear. _N.B. see [here](https://www.doc.ic.ac.uk/csg-old/linux/Cshrc.html#:~:text=cshrc&text=This%20file%20is%20executed%20every,configure%20aliases%20and%20environment%20variables.&text=Do%20not%20modify%20this%20file%20unless%20you%20know%20what%20you%20are%20doing.) if you want instructions on how to permanantly set up a shell variable to recur in each session._"
      ],
      "metadata": {
        "id": "Y_upngnfJxbv"
      }
    },
    {
      "cell_type": "markdown",
      "source": [
        "This brings us to the end of the tutorial but obviously this is far from the entirity of Linux! If you want to learn more there are LOTS of online tutorials (e.g. [this one](https://ubuntu.com/tutorials/command-line-for-beginners#1-overview)), courses (e.g. [here](https://www.edx.org/learn/linux)) and books (see the [module reading list](https://rl.talis.com/3/warwick/lists/E242539B-2D24-D266-AF6E-31FC7E79A595.html?draft=1&lang=en-US&login=1)). However, that gives us enough for the basic level we'll work with it in this module! See you soon"
      ],
      "metadata": {
        "id": "LUZRq9yAK3mX"
      }
    },
    {
      "cell_type": "markdown",
      "source": [],
      "metadata": {
        "id": "-A0CvXaXMCWU"
      }
    }
  ]
}